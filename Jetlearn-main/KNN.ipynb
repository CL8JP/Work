{
 "cells": [
  {
   "cell_type": "code",
   "execution_count": 21,
   "id": "2a610426",
   "metadata": {},
   "outputs": [],
   "source": [
    "import pandas as pd\n",
    "import numpy as np\n",
    "import matplotlib.pyplot as plt\n",
    "from sklearn.preprocessing import StandardScaler, LabelEncoder\n",
    "from sklearn.model_selection import train_test_split\n",
    "from sklearn.neighbors import KNeighborsClassifier\n",
    "from sklearn.metrics import classification_report, confusion_matrix\n",
    "import seaborn as sns"
   ]
  },
  {
   "cell_type": "code",
   "execution_count": 3,
   "id": "7d73b2ad",
   "metadata": {},
   "outputs": [
    {
     "data": {
      "text/html": [
       "<div>\n",
       "<style scoped>\n",
       "    .dataframe tbody tr th:only-of-type {\n",
       "        vertical-align: middle;\n",
       "    }\n",
       "\n",
       "    .dataframe tbody tr th {\n",
       "        vertical-align: top;\n",
       "    }\n",
       "\n",
       "    .dataframe thead th {\n",
       "        text-align: right;\n",
       "    }\n",
       "</style>\n",
       "<table border=\"1\" class=\"dataframe\">\n",
       "  <thead>\n",
       "    <tr style=\"text-align: right;\">\n",
       "      <th></th>\n",
       "      <th>sepal_length</th>\n",
       "      <th>sepal_width</th>\n",
       "      <th>petal_length</th>\n",
       "      <th>petal_width</th>\n",
       "      <th>species</th>\n",
       "    </tr>\n",
       "  </thead>\n",
       "  <tbody>\n",
       "    <tr>\n",
       "      <th>0</th>\n",
       "      <td>5.1</td>\n",
       "      <td>3.5</td>\n",
       "      <td>1.4</td>\n",
       "      <td>0.2</td>\n",
       "      <td>setosa</td>\n",
       "    </tr>\n",
       "    <tr>\n",
       "      <th>1</th>\n",
       "      <td>4.9</td>\n",
       "      <td>3.0</td>\n",
       "      <td>1.4</td>\n",
       "      <td>0.2</td>\n",
       "      <td>setosa</td>\n",
       "    </tr>\n",
       "    <tr>\n",
       "      <th>2</th>\n",
       "      <td>4.7</td>\n",
       "      <td>3.2</td>\n",
       "      <td>1.3</td>\n",
       "      <td>0.2</td>\n",
       "      <td>setosa</td>\n",
       "    </tr>\n",
       "    <tr>\n",
       "      <th>3</th>\n",
       "      <td>4.6</td>\n",
       "      <td>3.1</td>\n",
       "      <td>1.5</td>\n",
       "      <td>0.2</td>\n",
       "      <td>setosa</td>\n",
       "    </tr>\n",
       "    <tr>\n",
       "      <th>4</th>\n",
       "      <td>5.0</td>\n",
       "      <td>3.6</td>\n",
       "      <td>1.4</td>\n",
       "      <td>0.2</td>\n",
       "      <td>setosa</td>\n",
       "    </tr>\n",
       "  </tbody>\n",
       "</table>\n",
       "</div>"
      ],
      "text/plain": [
       "   sepal_length  sepal_width  petal_length  petal_width species\n",
       "0           5.1          3.5           1.4          0.2  setosa\n",
       "1           4.9          3.0           1.4          0.2  setosa\n",
       "2           4.7          3.2           1.3          0.2  setosa\n",
       "3           4.6          3.1           1.5          0.2  setosa\n",
       "4           5.0          3.6           1.4          0.2  setosa"
      ]
     },
     "execution_count": 3,
     "metadata": {},
     "output_type": "execute_result"
    }
   ],
   "source": [
    "Iris = pd.read_csv(\"iris.csv\")\n",
    "Iris.head()"
   ]
  },
  {
   "cell_type": "code",
   "execution_count": 9,
   "id": "4b5bbaf8",
   "metadata": {},
   "outputs": [],
   "source": [
    "X = Iris[[\"sepal_length\", \"sepal_width\", \"petal_length\", \"petal_width\"]]\n",
    "Y = Iris[\"species\"]"
   ]
  },
  {
   "cell_type": "code",
   "execution_count": 10,
   "id": "b1b9538d",
   "metadata": {},
   "outputs": [
    {
     "data": {
      "text/html": [
       "<div>\n",
       "<style scoped>\n",
       "    .dataframe tbody tr th:only-of-type {\n",
       "        vertical-align: middle;\n",
       "    }\n",
       "\n",
       "    .dataframe tbody tr th {\n",
       "        vertical-align: top;\n",
       "    }\n",
       "\n",
       "    .dataframe thead th {\n",
       "        text-align: right;\n",
       "    }\n",
       "</style>\n",
       "<table border=\"1\" class=\"dataframe\">\n",
       "  <thead>\n",
       "    <tr style=\"text-align: right;\">\n",
       "      <th></th>\n",
       "      <th>sepal_length</th>\n",
       "      <th>sepal_width</th>\n",
       "      <th>petal_length</th>\n",
       "      <th>petal_width</th>\n",
       "    </tr>\n",
       "  </thead>\n",
       "  <tbody>\n",
       "    <tr>\n",
       "      <th>0</th>\n",
       "      <td>5.1</td>\n",
       "      <td>3.5</td>\n",
       "      <td>1.4</td>\n",
       "      <td>0.2</td>\n",
       "    </tr>\n",
       "    <tr>\n",
       "      <th>1</th>\n",
       "      <td>4.9</td>\n",
       "      <td>3.0</td>\n",
       "      <td>1.4</td>\n",
       "      <td>0.2</td>\n",
       "    </tr>\n",
       "    <tr>\n",
       "      <th>2</th>\n",
       "      <td>4.7</td>\n",
       "      <td>3.2</td>\n",
       "      <td>1.3</td>\n",
       "      <td>0.2</td>\n",
       "    </tr>\n",
       "    <tr>\n",
       "      <th>3</th>\n",
       "      <td>4.6</td>\n",
       "      <td>3.1</td>\n",
       "      <td>1.5</td>\n",
       "      <td>0.2</td>\n",
       "    </tr>\n",
       "    <tr>\n",
       "      <th>4</th>\n",
       "      <td>5.0</td>\n",
       "      <td>3.6</td>\n",
       "      <td>1.4</td>\n",
       "      <td>0.2</td>\n",
       "    </tr>\n",
       "  </tbody>\n",
       "</table>\n",
       "</div>"
      ],
      "text/plain": [
       "   sepal_length  sepal_width  petal_length  petal_width\n",
       "0           5.1          3.5           1.4          0.2\n",
       "1           4.9          3.0           1.4          0.2\n",
       "2           4.7          3.2           1.3          0.2\n",
       "3           4.6          3.1           1.5          0.2\n",
       "4           5.0          3.6           1.4          0.2"
      ]
     },
     "execution_count": 10,
     "metadata": {},
     "output_type": "execute_result"
    }
   ],
   "source": [
    "X.head()"
   ]
  },
  {
   "cell_type": "code",
   "execution_count": 11,
   "id": "e2b2d154",
   "metadata": {},
   "outputs": [
    {
     "data": {
      "text/plain": [
       "0    setosa\n",
       "1    setosa\n",
       "2    setosa\n",
       "3    setosa\n",
       "4    setosa\n",
       "Name: species, dtype: object"
      ]
     },
     "execution_count": 11,
     "metadata": {},
     "output_type": "execute_result"
    }
   ],
   "source": [
    "Y.head()"
   ]
  },
  {
   "cell_type": "code",
   "execution_count": 13,
   "id": "34387356",
   "metadata": {},
   "outputs": [],
   "source": [
    "x_train, x_test, y_train, y_test = train_test_split(X, Y, test_size = 0.2, random_state = 5)"
   ]
  },
  {
   "cell_type": "code",
   "execution_count": 15,
   "id": "21b9440a",
   "metadata": {},
   "outputs": [
    {
     "data": {
      "text/plain": [
       "array([[-0.88140924,  0.72750289, -1.23547394, -1.26527703],\n",
       "       [-0.40389633, -1.69139841,  0.17434798,  0.16834158],\n",
       "       [-0.16513988, -1.03169805, -0.10761641, -0.22264531],\n",
       "       [-0.52327456,  1.38720324, -1.23547394, -1.26527703],\n",
       "       [ 1.38677706,  0.28770265,  0.56909811,  0.29867054],\n",
       "       [-1.00078746,  0.50760277, -1.29186681, -1.26527703],\n",
       "       [-1.00078746,  0.94740301, -1.17908106, -0.74396117],\n",
       "       [ 2.22242464, -0.15209758,  1.35859839,  1.47163122],\n",
       "       [-1.00078746,  0.94740301, -1.34825969, -1.13494806],\n",
       "       [ 0.6705077 ,  0.28770265,  0.90745537,  1.47163122],\n",
       "       [-0.04576165, -0.81179793,  0.79466962,  0.95031536],\n",
       "       [-0.28451811, -1.25159817,  0.1179551 , -0.09231635],\n",
       "       [-0.88140924,  0.94740301, -1.29186681, -1.13494806],\n",
       "       [-0.88140924,  1.60710336, -1.17908106, -1.26527703],\n",
       "       [ 0.78988593, -0.59189782,  0.51270524,  0.42899951],\n",
       "       [ 0.43175125, -0.59189782,  0.62549099,  0.8199864 ],\n",
       "       [ 0.07361657, -0.15209758,  0.28713373,  0.42899951],\n",
       "       [ 1.02864238,  0.50760277,  1.13302688,  1.21097329],\n",
       "       [ 2.22242464,  1.60710336,  1.69695564,  1.34130226],\n",
       "       [-0.52327456,  0.72750289, -1.12268818, -1.26527703],\n",
       "       [ 0.55112948, -1.25159817,  0.73827674,  0.95031536],\n",
       "       [-1.00078746,  0.28770265, -1.40465257, -1.26527703],\n",
       "       [-1.47830037,  0.72750289, -1.29186681, -1.13494806],\n",
       "       [-0.16513988,  2.92650407, -1.23547394, -1.0046191 ],\n",
       "       [-0.76203101,  0.72750289, -1.29186681, -1.26527703],\n",
       "       [ 0.43175125, -0.3719977 ,  0.34352661,  0.16834158],\n",
       "       [ 0.55112948,  0.50760277,  0.56909811,  0.55932847],\n",
       "       [-0.40389633, -1.47149829,  0.00516935, -0.22264531],\n",
       "       [-0.88140924, -1.25159817, -0.38958079, -0.09231635],\n",
       "       [ 0.07361657, -0.15209758,  0.79466962,  0.8199864 ],\n",
       "       [-1.00078746, -2.35109876, -0.10761641, -0.22264531],\n",
       "       [ 0.78988593, -0.15209758,  0.8510625 ,  1.08064433],\n",
       "       [ 0.78988593, -0.15209758,  1.18941976,  1.34130226],\n",
       "       [ 1.26739883,  0.06780254,  0.68188387,  0.42899951],\n",
       "       [-1.47830037,  1.16730313, -1.51743832, -1.26527703],\n",
       "       [ 0.90926416, -0.15209758,  0.39991948,  0.29867054],\n",
       "       [-1.12016569,  0.06780254, -1.23547394, -1.39560599],\n",
       "       [ 1.02864238, -0.15209758,  0.73827674,  0.68965743],\n",
       "       [ 1.02864238, -0.15209758,  0.8510625 ,  1.47163122],\n",
       "       [-0.28451811, -0.3719977 , -0.05122353,  0.16834158],\n",
       "       [ 0.55112948,  0.72750289,  1.076634  ,  1.60196018],\n",
       "       [-0.28451811, -0.81179793,  0.28713373,  0.16834158],\n",
       "       [ 0.31237303, -0.15209758,  0.68188387,  0.8199864 ],\n",
       "       [ 0.55112948, -1.69139841,  0.39991948,  0.16834158],\n",
       "       [-0.04576165, -1.03169805,  0.17434798,  0.03801261],\n",
       "       [-0.16513988, -0.15209758,  0.28713373,  0.03801261],\n",
       "       [ 1.26739883,  0.06780254,  0.96384825,  1.21097329],\n",
       "       [ 1.14802061, -0.59189782,  0.62549099,  0.29867054],\n",
       "       [-0.76203101,  2.26680371, -1.23547394, -1.39560599],\n",
       "       [-0.04576165, -0.81179793,  0.79466962,  0.95031536],\n",
       "       [-1.83643505, -0.15209758, -1.46104544, -1.39560599],\n",
       "       [-1.23954391,  0.72750289, -1.00990243, -1.26527703],\n",
       "       [-0.76203101, -0.81179793,  0.1179551 ,  0.29867054],\n",
       "       [-1.23954391, -0.15209758, -1.29186681, -1.13494806],\n",
       "       [-1.12016569,  0.06780254, -1.23547394, -1.39560599],\n",
       "       [ 2.4611811 ,  1.60710336,  1.52777701,  1.08064433],\n",
       "       [-1.00078746, -1.69139841, -0.22040216, -0.22264531],\n",
       "       [-1.47830037,  0.28770265, -1.29186681, -1.26527703],\n",
       "       [ 0.78988593, -0.15209758,  1.02024113,  0.8199864 ],\n",
       "       [-1.12016569,  0.06780254, -1.23547394, -1.39560599],\n",
       "       [ 0.1929948 , -1.91129852,  0.73827674,  0.42899951],\n",
       "       [-0.40389633, -1.03169805,  0.39991948,  0.03801261],\n",
       "       [-0.04576165,  2.0469036 , -1.40465257, -1.26527703],\n",
       "       [-0.52327456,  1.82700348, -1.34825969, -1.0046191 ],\n",
       "       [ 0.6705077 , -0.81179793,  0.90745537,  0.95031536],\n",
       "       [ 0.1929948 ,  0.72750289,  0.45631236,  0.55932847],\n",
       "       [-0.40389633, -1.25159817,  0.17434798,  0.16834158],\n",
       "       [-0.40389633,  2.48670383, -1.29186681, -1.26527703],\n",
       "       [-1.35892214,  0.28770265, -1.17908106, -1.26527703],\n",
       "       [ 1.26739883,  0.28770265,  1.13302688,  1.47163122],\n",
       "       [ 0.1929948 , -0.3719977 ,  0.45631236,  0.42899951],\n",
       "       [ 0.31237303, -0.15209758,  0.51270524,  0.29867054],\n",
       "       [-1.47830037,  0.06780254, -1.23547394, -1.26527703],\n",
       "       [-0.16513988, -0.59189782,  0.45631236,  0.16834158],\n",
       "       [ 0.1929948 , -0.15209758,  0.62549099,  0.8199864 ],\n",
       "       [-0.04576165, -0.81179793,  0.23074085, -0.22264531],\n",
       "       [-1.23954391,  0.72750289, -1.17908106, -1.26527703],\n",
       "       [ 0.1929948 , -1.91129852,  0.17434798, -0.22264531],\n",
       "       [ 0.6705077 ,  0.06780254,  1.02024113,  0.8199864 ],\n",
       "       [ 1.02864238, -1.25159817,  1.18941976,  0.8199864 ],\n",
       "       [ 0.55112948,  0.50760277,  1.30220551,  1.73228915],\n",
       "       [ 1.14802061,  0.28770265,  1.24581263,  1.47163122],\n",
       "       [-0.16513988,  1.60710336, -1.12268818, -1.13494806],\n",
       "       [-0.88140924,  1.60710336, -1.23547394, -1.13494806],\n",
       "       [ 0.1929948 , -0.81179793,  0.79466962,  0.55932847],\n",
       "       [ 2.22242464, -0.59189782,  1.69695564,  1.08064433],\n",
       "       [-1.71705682, -0.15209758, -1.34825969, -1.26527703],\n",
       "       [ 0.43175125, -1.91129852,  0.45631236,  0.42899951],\n",
       "       [-1.35892214,  0.28770265, -1.34825969, -1.26527703],\n",
       "       [-0.52327456,  0.72750289, -1.23547394, -1.0046191 ],\n",
       "       [ 1.02864238,  0.06780254,  1.076634  ,  1.60196018],\n",
       "       [ 0.6705077 ,  0.28770265,  0.45631236,  0.42899951],\n",
       "       [ 2.10304642, -0.15209758,  1.64056277,  1.21097329],\n",
       "       [-0.40389633,  0.94740301, -1.34825969, -1.26527703],\n",
       "       [ 0.78988593,  0.28770265,  0.79466962,  1.08064433],\n",
       "       [-1.00078746,  1.16730313, -1.29186681, -1.26527703],\n",
       "       [ 1.26739883,  0.06780254,  0.79466962,  1.47163122],\n",
       "       [-0.88140924,  0.94740301, -1.29186681, -1.26527703],\n",
       "       [ 0.90926416, -0.3719977 ,  0.51270524,  0.16834158],\n",
       "       [-0.52327456,  1.82700348, -1.12268818, -1.0046191 ],\n",
       "       [ 0.55112948, -0.3719977 ,  1.076634  ,  0.8199864 ],\n",
       "       [ 1.62553351, -0.15209758,  1.18941976,  0.55932847],\n",
       "       [-1.59767859, -1.69139841, -1.34825969, -1.13494806],\n",
       "       [-1.12016569, -1.25159817,  0.45631236,  0.68965743],\n",
       "       [-0.28451811, -0.59189782,  0.68188387,  1.08064433],\n",
       "       [ 1.62553351,  0.28770265,  1.30220551,  0.8199864 ],\n",
       "       [ 1.02864238,  0.06780254,  0.56909811,  0.42899951],\n",
       "       [-1.23954391,  0.06780254, -1.17908106, -1.26527703],\n",
       "       [ 1.02864238,  0.06780254,  0.39991948,  0.29867054],\n",
       "       [-0.88140924,  1.60710336, -1.00990243, -1.0046191 ],\n",
       "       [-0.76203101,  0.94740301, -1.23547394, -1.26527703],\n",
       "       [-0.40389633, -1.47149829,  0.06156222, -0.09231635],\n",
       "       [-0.16513988, -1.25159817,  0.73827674,  1.08064433],\n",
       "       [-1.00078746,  0.72750289, -1.23547394, -1.26527703],\n",
       "       [ 1.14802061, -0.15209758,  1.02024113,  1.21097329],\n",
       "       [-1.71705682, -0.3719977 , -1.29186681, -1.26527703],\n",
       "       [ 0.31237303, -0.59189782,  0.56909811,  0.03801261],\n",
       "       [ 1.02864238,  0.50760277,  1.13302688,  1.73228915],\n",
       "       [ 2.22242464, -1.03169805,  1.8097414 ,  1.47163122],\n",
       "       [-0.16513988, -0.59189782,  0.23074085,  0.16834158]])"
      ]
     },
     "execution_count": 15,
     "metadata": {},
     "output_type": "execute_result"
    }
   ],
   "source": [
    "Standard_Scaler = StandardScaler()\n",
    "Standard_Scaler.fit_transform(x_train)"
   ]
  },
  {
   "cell_type": "code",
   "execution_count": 16,
   "id": "5f332563",
   "metadata": {},
   "outputs": [
    {
     "data": {
      "text/plain": [
       "array([0, 1, 1, 0, 1, 0, 0, 2, 0, 2, 2, 1, 0, 0, 1, 2, 1, 2, 2, 0, 2, 0,\n",
       "       0, 0, 0, 1, 1, 1, 1, 2, 1, 2, 2, 1, 0, 1, 0, 1, 2, 1, 2, 1, 2, 1,\n",
       "       1, 1, 2, 1, 0, 2, 0, 0, 1, 0, 0, 2, 1, 0, 2, 0, 2, 1, 0, 0, 2, 1,\n",
       "       1, 0, 0, 2, 1, 1, 0, 1, 2, 1, 0, 1, 2, 2, 2, 2, 0, 0, 1, 2, 0, 1,\n",
       "       0, 0, 2, 1, 2, 0, 2, 0, 2, 0, 1, 0, 2, 2, 0, 2, 2, 2, 1, 0, 1, 0,\n",
       "       0, 1, 2, 0, 2, 0, 1, 2, 2, 1])"
      ]
     },
     "execution_count": 16,
     "metadata": {},
     "output_type": "execute_result"
    }
   ],
   "source": [
    "Lebel_Encoder = LabelEncoder()\n",
    "Lebel_Encoder.fit_transform(y_train)"
   ]
  },
  {
   "cell_type": "code",
   "execution_count": 17,
   "id": "15deeb0b",
   "metadata": {},
   "outputs": [
    {
     "data": {
      "text/html": [
       "<style>#sk-container-id-1 {color: black;background-color: white;}#sk-container-id-1 pre{padding: 0;}#sk-container-id-1 div.sk-toggleable {background-color: white;}#sk-container-id-1 label.sk-toggleable__label {cursor: pointer;display: block;width: 100%;margin-bottom: 0;padding: 0.3em;box-sizing: border-box;text-align: center;}#sk-container-id-1 label.sk-toggleable__label-arrow:before {content: \"▸\";float: left;margin-right: 0.25em;color: #696969;}#sk-container-id-1 label.sk-toggleable__label-arrow:hover:before {color: black;}#sk-container-id-1 div.sk-estimator:hover label.sk-toggleable__label-arrow:before {color: black;}#sk-container-id-1 div.sk-toggleable__content {max-height: 0;max-width: 0;overflow: hidden;text-align: left;background-color: #f0f8ff;}#sk-container-id-1 div.sk-toggleable__content pre {margin: 0.2em;color: black;border-radius: 0.25em;background-color: #f0f8ff;}#sk-container-id-1 input.sk-toggleable__control:checked~div.sk-toggleable__content {max-height: 200px;max-width: 100%;overflow: auto;}#sk-container-id-1 input.sk-toggleable__control:checked~label.sk-toggleable__label-arrow:before {content: \"▾\";}#sk-container-id-1 div.sk-estimator input.sk-toggleable__control:checked~label.sk-toggleable__label {background-color: #d4ebff;}#sk-container-id-1 div.sk-label input.sk-toggleable__control:checked~label.sk-toggleable__label {background-color: #d4ebff;}#sk-container-id-1 input.sk-hidden--visually {border: 0;clip: rect(1px 1px 1px 1px);clip: rect(1px, 1px, 1px, 1px);height: 1px;margin: -1px;overflow: hidden;padding: 0;position: absolute;width: 1px;}#sk-container-id-1 div.sk-estimator {font-family: monospace;background-color: #f0f8ff;border: 1px dotted black;border-radius: 0.25em;box-sizing: border-box;margin-bottom: 0.5em;}#sk-container-id-1 div.sk-estimator:hover {background-color: #d4ebff;}#sk-container-id-1 div.sk-parallel-item::after {content: \"\";width: 100%;border-bottom: 1px solid gray;flex-grow: 1;}#sk-container-id-1 div.sk-label:hover label.sk-toggleable__label {background-color: #d4ebff;}#sk-container-id-1 div.sk-serial::before {content: \"\";position: absolute;border-left: 1px solid gray;box-sizing: border-box;top: 0;bottom: 0;left: 50%;z-index: 0;}#sk-container-id-1 div.sk-serial {display: flex;flex-direction: column;align-items: center;background-color: white;padding-right: 0.2em;padding-left: 0.2em;position: relative;}#sk-container-id-1 div.sk-item {position: relative;z-index: 1;}#sk-container-id-1 div.sk-parallel {display: flex;align-items: stretch;justify-content: center;background-color: white;position: relative;}#sk-container-id-1 div.sk-item::before, #sk-container-id-1 div.sk-parallel-item::before {content: \"\";position: absolute;border-left: 1px solid gray;box-sizing: border-box;top: 0;bottom: 0;left: 50%;z-index: -1;}#sk-container-id-1 div.sk-parallel-item {display: flex;flex-direction: column;z-index: 1;position: relative;background-color: white;}#sk-container-id-1 div.sk-parallel-item:first-child::after {align-self: flex-end;width: 50%;}#sk-container-id-1 div.sk-parallel-item:last-child::after {align-self: flex-start;width: 50%;}#sk-container-id-1 div.sk-parallel-item:only-child::after {width: 0;}#sk-container-id-1 div.sk-dashed-wrapped {border: 1px dashed gray;margin: 0 0.4em 0.5em 0.4em;box-sizing: border-box;padding-bottom: 0.4em;background-color: white;}#sk-container-id-1 div.sk-label label {font-family: monospace;font-weight: bold;display: inline-block;line-height: 1.2em;}#sk-container-id-1 div.sk-label-container {text-align: center;}#sk-container-id-1 div.sk-container {/* jupyter's `normalize.less` sets `[hidden] { display: none; }` but bootstrap.min.css set `[hidden] { display: none !important; }` so we also need the `!important` here to be able to override the default hidden behavior on the sphinx rendered scikit-learn.org. See: https://github.com/scikit-learn/scikit-learn/issues/21755 */display: inline-block !important;position: relative;}#sk-container-id-1 div.sk-text-repr-fallback {display: none;}</style><div id=\"sk-container-id-1\" class=\"sk-top-container\"><div class=\"sk-text-repr-fallback\"><pre>KNeighborsClassifier()</pre><b>In a Jupyter environment, please rerun this cell to show the HTML representation or trust the notebook. <br />On GitHub, the HTML representation is unable to render, please try loading this page with nbviewer.org.</b></div><div class=\"sk-container\" hidden><div class=\"sk-item\"><div class=\"sk-estimator sk-toggleable\"><input class=\"sk-toggleable__control sk-hidden--visually\" id=\"sk-estimator-id-1\" type=\"checkbox\" checked><label for=\"sk-estimator-id-1\" class=\"sk-toggleable__label sk-toggleable__label-arrow\">KNeighborsClassifier</label><div class=\"sk-toggleable__content\"><pre>KNeighborsClassifier()</pre></div></div></div></div></div>"
      ],
      "text/plain": [
       "KNeighborsClassifier()"
      ]
     },
     "execution_count": 17,
     "metadata": {},
     "output_type": "execute_result"
    }
   ],
   "source": [
    "Classifier = KNeighborsClassifier(n_neighbors = 5)\n",
    "Classifier.fit(x_train, y_train)"
   ]
  },
  {
   "cell_type": "code",
   "execution_count": 18,
   "id": "2ed3a879",
   "metadata": {},
   "outputs": [
    {
     "data": {
      "text/plain": [
       "array([[-0.04576165, -0.81179793,  0.1179551 ,  0.03801261],\n",
       "       [ 0.31237303, -1.03169805,  1.076634  ,  0.29867054],\n",
       "       [-0.04576165, -0.59189782,  0.79466962,  1.60196018],\n",
       "       [-1.71705682,  0.28770265, -1.34825969, -1.26527703],\n",
       "       [ 1.62553351,  1.16730313,  1.35859839,  1.73228915],\n",
       "       [-1.12016569, -1.47149829, -0.22040216, -0.22264531],\n",
       "       [-1.12016569, -0.15209758, -1.29186681, -1.26527703],\n",
       "       [ 0.07361657,  0.28770265,  0.62549099,  0.8199864 ],\n",
       "       [-1.00078746, -0.15209758, -1.17908106, -1.26527703],\n",
       "       [-0.52327456, -0.15209758,  0.45631236,  0.42899951],\n",
       "       [-0.28451811, -0.15209758,  0.45631236,  0.42899951],\n",
       "       [ 0.55112948, -0.59189782,  0.79466962,  0.42899951],\n",
       "       [ 1.50615529, -0.15209758,  1.24581263,  1.21097329],\n",
       "       [ 1.74491174, -0.3719977 ,  1.47138414,  0.8199864 ],\n",
       "       [-1.00078746,  0.72750289, -1.17908106, -1.0046191 ],\n",
       "       [-0.88140924,  0.50760277, -1.12268818, -0.87429013],\n",
       "       [ 0.55112948, -0.81179793,  0.68188387,  0.8199864 ],\n",
       "       [ 1.86428996, -0.59189782,  1.35859839,  0.95031536],\n",
       "       [-0.88140924,  1.38720324, -1.23547394, -1.0046191 ],\n",
       "       [-1.23954391, -0.15209758, -1.29186681, -1.39560599],\n",
       "       [ 0.31237303, -0.59189782,  0.17434798,  0.16834158],\n",
       "       [ 0.6705077 , -0.59189782,  1.076634  ,  1.21097329],\n",
       "       [-0.64265278,  1.38720324, -1.23547394, -1.26527703],\n",
       "       [ 0.55112948, -1.25159817,  0.68188387,  0.42899951],\n",
       "       [-0.28451811, -0.15209758,  0.23074085,  0.16834158],\n",
       "       [ 0.43175125,  0.72750289,  0.96384825,  1.47163122],\n",
       "       [ 0.6705077 , -0.3719977 ,  0.34352661,  0.16834158],\n",
       "       [-0.16513988, -0.3719977 ,  0.28713373,  0.16834158],\n",
       "       [ 0.31237303, -0.3719977 ,  0.56909811,  0.29867054],\n",
       "       [ 0.6705077 , -0.59189782,  1.076634  ,  1.34130226]])"
      ]
     },
     "execution_count": 18,
     "metadata": {},
     "output_type": "execute_result"
    }
   ],
   "source": [
    "Standard_Scaler.transform(x_test)"
   ]
  },
  {
   "cell_type": "code",
   "execution_count": 19,
   "id": "87c40d4a",
   "metadata": {},
   "outputs": [
    {
     "data": {
      "text/plain": [
       "array([1, 2, 2, 0, 2, 1, 0, 1, 0, 1, 1, 2, 2, 2, 0, 0, 2, 2, 0, 0, 1, 2,\n",
       "       0, 1, 1, 2, 1, 1, 1, 2])"
      ]
     },
     "execution_count": 19,
     "metadata": {},
     "output_type": "execute_result"
    }
   ],
   "source": [
    "y_pred = Classifier.predict(x_test)\n",
    "Lebel_Encoder.transform(y_test)"
   ]
  },
  {
   "cell_type": "code",
   "execution_count": 22,
   "id": "7da0c37f",
   "metadata": {},
   "outputs": [
    {
     "data": {
      "image/png": "[encoded data removed]",
      "text/plain": [
       "<Figure size 640x480 with 2 Axes>"
      ]
     },
     "metadata": {},
     "output_type": "display_data"
    }
   ],
   "source": [
    "metrics = confusion_matrix(y_test, y_pred)\n",
    "\n",
    "sns.heatmap(metrics, annot = True, fmt = \"d\")\n",
    "plt.title(\"Confusion matrix\")\n",
    "plt.xlabel(\"Predicted\")\n",
    "plt.ylabel(\"Actual\")\n",
    "plt.show()"
   ]
  },
  {
   "cell_type": "code",
   "execution_count": 24,
   "id": "662776ab",
   "metadata": {},
   "outputs": [
    {
     "name": "stdout",
     "output_type": "stream",
     "text": [
      "              precision    recall  f1-score   support\n",
      "\n",
      "      setosa       1.00      1.00      1.00         8\n",
      "  versicolor       1.00      0.82      0.90        11\n",
      "   virginica       0.85      1.00      0.92        11\n",
      "\n",
      "    accuracy                           0.93        30\n",
      "   macro avg       0.95      0.94      0.94        30\n",
      "weighted avg       0.94      0.93      0.93        30\n",
      "\n"
     ]
    }
   ],
   "source": [
    "print(classification_report(y_test, y_pred))"
   ]
  },
  {
   "cell_type": "code",
   "execution_count": null,
   "id": "42e23dd2",
   "metadata": {},
   "outputs": [],
   "source": []
  }
 ],
 "metadata": {
  "kernelspec": {
   "display_name": "Python 3 (ipykernel)",
   "language": "python",
   "name": "python3"
  },
  "language_info": {
   "codemirror_mode": {
    "name": "ipython",
    "version": 3
   },
   "file_extension": ".py",
   "mimetype": "text/x-python",
   "name": "python",
   "nbconvert_exporter": "python",
   "pygments_lexer": "ipython3",
   "version": "3.11.3"
  }
 },
 "nbformat": 4,
 "nbformat_minor": 5
}
