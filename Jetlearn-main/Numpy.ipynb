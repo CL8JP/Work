{
 "cells": [
  {
   "cell_type": "code",
   "execution_count": 2,
   "id": "eee94bfe",
   "metadata": {},
   "outputs": [],
   "source": [
    "import numpy as np"
   ]
  },
  {
   "cell_type": "code",
   "execution_count": 3,
   "id": "8bc1aaf8",
   "metadata": {},
   "outputs": [],
   "source": [
    "Distance = [14, 525, 62, 87]\n",
    "Time = [10, 38, 89, 63]"
   ]
  },
  {
   "cell_type": "code",
   "execution_count": 4,
   "id": "a0d1b629",
   "metadata": {
    "scrolled": true
   },
   "outputs": [
    {
     "ename": "TypeError",
     "evalue": "unsupported operand type(s) for /: 'list' and 'list'",
     "output_type": "error",
     "traceback": [
      "\u001b[1;31m---------------------------------------------------------------------------\u001b[0m",
      "\u001b[1;31mTypeError\u001b[0m                                 Traceback (most recent call last)",
      "Cell \u001b[1;32mIn[4], line 1\u001b[0m\n\u001b[1;32m----> 1\u001b[0m Speed \u001b[38;5;241m=\u001b[39m Distance \u001b[38;5;241m/\u001b[39m Time\n",
      "\u001b[1;31mTypeError\u001b[0m: unsupported operand type(s) for /: 'list' and 'list'"
     ]
    }
   ],
   "source": [
    "Speed = Distance / Time"
   ]
  },
  {
   "cell_type": "code",
   "execution_count": 5,
   "id": "79a98f45",
   "metadata": {},
   "outputs": [],
   "source": [
    "distance = np.array(Distance)\n",
    "time = np.array(Time)"
   ]
  },
  {
   "cell_type": "code",
   "execution_count": 6,
   "id": "5d973d53",
   "metadata": {},
   "outputs": [
    {
     "name": "stdout",
     "output_type": "stream",
     "text": [
      "[ 1.4        13.81578947  0.69662921  1.38095238]\n"
     ]
    }
   ],
   "source": [
    "Speed = distance / time\n",
    "print(Speed)"
   ]
  },
  {
   "cell_type": "code",
   "execution_count": 7,
   "id": "ea87f04c",
   "metadata": {},
   "outputs": [
    {
     "name": "stdout",
     "output_type": "stream",
     "text": [
      "1 2\n"
     ]
    }
   ],
   "source": [
    "City = np.array([\"NYC\", \"LDN\", \"MIAMI\", \"DALLAS\"])\n",
    "CityWithState = np.array([[\"NYC\", \"LDN\", \"MIMI\", \"DLS\"], [\"NEW YORK\", \"LONDON\", \"MIAMI\", \"DALLAS\"]])\n",
    "print(City.ndim, CityWithState.ndim)"
   ]
  },
  {
   "cell_type": "code",
   "execution_count": 8,
   "id": "ea6a8ec4",
   "metadata": {},
   "outputs": [
    {
     "name": "stdout",
     "output_type": "stream",
     "text": [
      "(4,) (2, 4)\n"
     ]
    }
   ],
   "source": [
    "print(City.shape, CityWithState.shape)"
   ]
  },
  {
   "cell_type": "code",
   "execution_count": 9,
   "id": "ad83cf66",
   "metadata": {},
   "outputs": [
    {
     "name": "stdout",
     "output_type": "stream",
     "text": [
      "8 4\n"
     ]
    }
   ],
   "source": [
    "print(CityWithState.size, City.size)"
   ]
  },
  {
   "cell_type": "code",
   "execution_count": 10,
   "id": "465ee5fa",
   "metadata": {},
   "outputs": [
    {
     "data": {
      "text/plain": [
       "dtype('<U6')"
      ]
     },
     "execution_count": 10,
     "metadata": {},
     "output_type": "execute_result"
    }
   ],
   "source": [
    "City.dtype"
   ]
  },
  {
   "cell_type": "code",
   "execution_count": 11,
   "id": "68ceae83",
   "metadata": {},
   "outputs": [
    {
     "name": "stdout",
     "output_type": "stream",
     "text": [
      "[ 4 31 62 24]\n"
     ]
    }
   ],
   "source": [
    "print(distance % time)"
   ]
  },
  {
   "cell_type": "code",
   "execution_count": 12,
   "id": "c5d83284",
   "metadata": {},
   "outputs": [
    {
     "name": "stdout",
     "output_type": "stream",
     "text": [
      "[ 14 525  62  87]\n"
     ]
    }
   ],
   "source": [
    "print(distance[0::1])"
   ]
  },
  {
   "cell_type": "code",
   "execution_count": 13,
   "id": "d7dcd136",
   "metadata": {},
   "outputs": [
    {
     "data": {
      "text/plain": [
       "(array([ 14, 525,  62,  87]), array([10, 38, 89, 63]))"
      ]
     },
     "execution_count": 13,
     "metadata": {},
     "output_type": "execute_result"
    }
   ],
   "source": [
    "distance, time"
   ]
  },
  {
   "cell_type": "code",
   "execution_count": 14,
   "id": "3d595e1e",
   "metadata": {},
   "outputs": [],
   "source": [
    "score = distance > 60"
   ]
  },
  {
   "cell_type": "code",
   "execution_count": 15,
   "id": "2545119c",
   "metadata": {},
   "outputs": [
    {
     "data": {
      "text/plain": [
       "array([ True,  True,  True,  True])"
      ]
     },
     "execution_count": 15,
     "metadata": {},
     "output_type": "execute_result"
    }
   ],
   "source": [
    "distance != None"
   ]
  },
  {
   "cell_type": "code",
   "execution_count": 16,
   "id": "39d2c516",
   "metadata": {},
   "outputs": [
    {
     "name": "stdout",
     "output_type": "stream",
     "text": [
      "[ 14 525  62  87] 4\n"
     ]
    }
   ],
   "source": [
    "distance_view = distance.view()\n",
    "print(distance_view, len(distance_view))"
   ]
  },
  {
   "cell_type": "code",
   "execution_count": 17,
   "id": "d0e1ce4d",
   "metadata": {},
   "outputs": [
    {
     "name": "stdout",
     "output_type": "stream",
     "text": [
      "[ 14 525 250  87] [ 14 525 250  87]\n"
     ]
    }
   ],
   "source": [
    "distance_view[2] = 250\n",
    "print(distance_view, distance)"
   ]
  },
  {
   "cell_type": "code",
   "execution_count": 18,
   "id": "03f3f6dc",
   "metadata": {},
   "outputs": [
    {
     "name": "stdout",
     "output_type": "stream",
     "text": [
      "[ 14 525 250  87] [ 14 525 250  87]\n"
     ]
    }
   ],
   "source": [
    "distance_deepcopy = distance.copy()\n",
    "print(distance_deepcopy, distance)"
   ]
  },
  {
   "cell_type": "code",
   "execution_count": 19,
   "id": "f6e90bba",
   "metadata": {},
   "outputs": [
    {
     "name": "stdout",
     "output_type": "stream",
     "text": [
      "[ 14 525  62  87] [ 14 525 250  87]\n"
     ]
    }
   ],
   "source": [
    "distance_deepcopy[2] = 62\n",
    "print(distance_deepcopy, distance)"
   ]
  },
  {
   "cell_type": "code",
   "execution_count": 20,
   "id": "fc593685",
   "metadata": {},
   "outputs": [
    {
     "name": "stdout",
     "output_type": "stream",
     "text": [
      "2\n"
     ]
    }
   ],
   "source": [
    "New_Cyclist_Trials = np.array([[67, 32, 96, 41, 70, 85], [12, 43, 96, 753, 298, 39]])\n",
    "print(New_Cyclist_Trials.ndim)"
   ]
  },
  {
   "cell_type": "code",
   "execution_count": 21,
   "id": "a2a7a424",
   "metadata": {},
   "outputs": [
    {
     "data": {
      "text/plain": [
       "array([ 67,  32,  96,  41,  70,  85,  12,  43,  96, 753, 298,  39])"
      ]
     },
     "execution_count": 21,
     "metadata": {},
     "output_type": "execute_result"
    }
   ],
   "source": [
    "New_Cyclist_Trials.ravel()"
   ]
  },
  {
   "cell_type": "code",
   "execution_count": 22,
   "id": "a3284ac9",
   "metadata": {},
   "outputs": [
    {
     "data": {
      "text/plain": [
       "array([[ 67],\n",
       "       [ 32],\n",
       "       [ 96],\n",
       "       [ 41],\n",
       "       [ 70],\n",
       "       [ 85],\n",
       "       [ 12],\n",
       "       [ 43],\n",
       "       [ 96],\n",
       "       [753],\n",
       "       [298],\n",
       "       [ 39]])"
      ]
     },
     "execution_count": 22,
     "metadata": {},
     "output_type": "execute_result"
    }
   ],
   "source": [
    "New_Cyclist_Trials.reshape(12, 1)"
   ]
  },
  {
   "cell_type": "code",
   "execution_count": 23,
   "id": "318c26ba",
   "metadata": {},
   "outputs": [],
   "source": [
    "Week_1 = np.array([73, 86, 23, 0, 914])\n",
    "Week_2 = np.array([32, 94, 72, 27, 95])"
   ]
  },
  {
   "cell_type": "code",
   "execution_count": 24,
   "id": "a524c3d6",
   "metadata": {},
   "outputs": [
    {
     "name": "stdout",
     "output_type": "stream",
     "text": [
      "[ 105  180   95   27 1009]\n"
     ]
    }
   ],
   "source": [
    "Total_Earning = Week_1 + Week_2\n",
    "print(Total_Earning)"
   ]
  },
  {
   "cell_type": "code",
   "execution_count": 25,
   "id": "2f6077a5",
   "metadata": {},
   "outputs": [
    {
     "name": "stdout",
     "output_type": "stream",
     "text": [
      "[ 7.3  8.6  2.3  0.  91.4]\n"
     ]
    }
   ],
   "source": [
    "Week_1 = Week_1 / 10\n",
    "print(Week_1)"
   ]
  },
  {
   "cell_type": "code",
   "execution_count": 26,
   "id": "0bae9bec",
   "metadata": {},
   "outputs": [
    {
     "name": "stdout",
     "output_type": "stream",
     "text": [
      "[[ 73  86  23   0 914]\n",
      " [ 32  94  72  27  95]]\n"
     ]
    }
   ],
   "source": [
    "Week_1 = np.array([[73, 86, 23, 0, 914], [32, 94, 72, 27, 95]])\n",
    "print(Week_1)"
   ]
  },
  {
   "cell_type": "code",
   "execution_count": 27,
   "id": "8e720deb",
   "metadata": {},
   "outputs": [
    {
     "name": "stdout",
     "output_type": "stream",
     "text": [
      "[[ 73  32]\n",
      " [ 86  94]\n",
      " [ 23  72]\n",
      " [  0  27]\n",
      " [914  95]]\n"
     ]
    }
   ],
   "source": [
    "print(Week_1.transpose())"
   ]
  },
  {
   "cell_type": "code",
   "execution_count": null,
   "id": "05c10203",
   "metadata": {},
   "outputs": [],
   "source": []
  },
  {
   "cell_type": "code",
   "execution_count": null,
   "id": "0ae36a0f",
   "metadata": {},
   "outputs": [],
   "source": []
  },
  {
   "cell_type": "code",
   "execution_count": null,
   "id": "abfb8699",
   "metadata": {},
   "outputs": [],
   "source": []
  }
 ],
 "metadata": {
  "kernelspec": {
   "display_name": "Python 3 (ipykernel)",
   "language": "python",
   "name": "python3"
  },
  "language_info": {
   "codemirror_mode": {
    "name": "ipython",
    "version": 3
   },
   "file_extension": ".py",
   "mimetype": "text/x-python",
   "name": "python",
   "nbconvert_exporter": "python",
   "pygments_lexer": "ipython3",
   "version": "3.11.3"
  }
 },
 "nbformat": 4,
 "nbformat_minor": 5
}
