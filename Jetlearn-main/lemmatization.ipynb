{
 "cells": [
  {
   "cell_type": "code",
   "execution_count": 14,
   "id": "73eacaa5",
   "metadata": {},
   "outputs": [],
   "source": [
    "import nltk\n",
    "from nltk.stem import PorterStemmer, WordNetLemmatizer\n",
    "from nltk.corpus import stopwords\n"
   ]
  },
  {
   "cell_type": "code",
   "execution_count": 15,
   "id": "21798998",
   "metadata": {},
   "outputs": [],
   "source": [
    "Text = \"\"\"\n",
    "In December 2015, OpenAI was founded by Sam Altman, Elon Musk, Ilya Sutskever, Greg Brockman, Trevor Blackwell, Vicki Cheung, Andrej Karpathy, Durk Kingma, John Schulman, Pamela Vagata, and Wojciech Zaremba, with Sam Altman and Elon Musk as the co-chairs. A total of $1 billion in capital was pledged by Sam Altman, Greg Brockman, Elon Musk, Reid Hoffman, Jessica Livingston, Peter Thiel, Amazon Web Services (AWS), Infosys, and YC Research.[16][17] The actual collected total amount of contributions was only $130 million until 2019.[10] According to an investigation led by TechCrunch, while YC Research never contributed any funds, Open Philanthropy contributed $30 million and another $15 million in verifiable donations were traced back to Musk.[18] OpenAI later stated that Musk's contributions totaled less than $45 million.[19] The organization stated it would \"freely collaborate\" with other institutions and researchers by making its patents and research open to the public.[20][21] OpenAI was initially run from Brockman's living room.[22] It was later headquartered at the Pioneer Building in the Mission District, San Francisco.[23][24]\n",
    "\"\"\""
   ]
  },
  {
   "cell_type": "code",
   "execution_count": 16,
   "id": "0c2dba55",
   "metadata": {},
   "outputs": [],
   "source": [
    "Sentences = nltk.sent_tokenize(Text)"
   ]
  },
  {
   "cell_type": "code",
   "execution_count": 17,
   "id": "5234849f",
   "metadata": {},
   "outputs": [],
   "source": [
    "Lemmetizer = WordNetLemmatizer()\n"
   ]
  },
  {
   "cell_type": "code",
   "execution_count": 20,
   "id": "010613b8",
   "metadata": {},
   "outputs": [],
   "source": [
    "for i in range(len(Sentences)):\n",
    "    Words = nltk.word_tokenize(Sentences[i])\n",
    "    Words = [Lemmetizer.lemmatize(Word) for Word in Words if Word not in set(stopwords.words(\"english\"))]\n",
    "    Sentences[i] = \" \".join(Words)"
   ]
  },
  {
   "cell_type": "code",
   "execution_count": 21,
   "id": "0987c453",
   "metadata": {},
   "outputs": [
    {
     "data": {
      "text/plain": [
       "['In December 2015 , OpenAI founded Sam Altman , Elon Musk , Ilya Sutskever , Greg Brockman , Trevor Blackwell , Vicki Cheung , Andrej Karpathy , Durk Kingma , John Schulman , Pamela Vagata , Wojciech Zaremba , Sam Altman Elon Musk co-chairs .',\n",
       " 'A total $ 1 billion capital pledged Sam Altman , Greg Brockman , Elon Musk , Reid Hoffman , Jessica Livingston , Peter Thiel , Amazon Web Services ( AWS ) , Infosys , YC Research .',\n",
       " '[ 16 ] [ 17 ] The actual collected total amount contribution $ 130 million 2019 .',\n",
       " '[ 10 ] According investigation led TechCrunch , YC Research never contributed fund , Open Philanthropy contributed $ 30 million another $ 15 million verifiable donation traced back Musk .',\n",
       " \"[ 18 ] OpenAI later stated Musk 's contribution totaled le $ 45 million .\",\n",
       " \"[ 19 ] The organization stated would `` freely collaborate '' institution researcher making patent research open public .\",\n",
       " \"[ 20 ] [ 21 ] OpenAI initially run Brockman 's living room .\",\n",
       " '[ 22 ] It later headquartered Pioneer Building Mission District , San Francisco .',\n",
       " '[ 23 ] [ 24 ]']"
      ]
     },
     "execution_count": 21,
     "metadata": {},
     "output_type": "execute_result"
    }
   ],
   "source": [
    "Sentences"
   ]
  },
  {
   "cell_type": "code",
   "execution_count": 23,
   "id": "dfa24378",
   "metadata": {},
   "outputs": [],
   "source": [
    "Text2 = str(Text)\n",
    "Sentences = nltk.sent_tokenize(Text2)"
   ]
  },
  {
   "cell_type": "code",
   "execution_count": 24,
   "id": "a72e7793",
   "metadata": {},
   "outputs": [],
   "source": [
    "Stemmer = PorterStemmer()\n",
    "\n",
    "for i in range(len(Sentences)):\n",
    "    Words = nltk.word_tokenize(Sentences[i])\n",
    "    Words = [Stemmer.stem(Word) for Word in Words if Word not in set(stopwords.words(\"english\"))]\n",
    "    Sentences[i] = \" \".join(Words)"
   ]
  },
  {
   "cell_type": "code",
   "execution_count": 25,
   "id": "be35885c",
   "metadata": {},
   "outputs": [
    {
     "data": {
      "text/plain": [
       "['in decemb 2015 , openai found sam altman , elon musk , ilya sutskev , greg brockman , trevor blackwel , vicki cheung , andrej karpathi , durk kingma , john schulman , pamela vagata , wojciech zaremba , sam altman elon musk co-chair .',\n",
       " 'a total $ 1 billion capit pledg sam altman , greg brockman , elon musk , reid hoffman , jessica livingston , peter thiel , amazon web servic ( aw ) , infosi , yc research .',\n",
       " '[ 16 ] [ 17 ] the actual collect total amount contribut $ 130 million 2019 .',\n",
       " '[ 10 ] accord investig led techcrunch , yc research never contribut fund , open philanthropi contribut $ 30 million anoth $ 15 million verifi donat trace back musk .',\n",
       " \"[ 18 ] openai later state musk 's contribut total less $ 45 million .\",\n",
       " \"[ 19 ] the organ state would `` freeli collabor '' institut research make patent research open public .\",\n",
       " \"[ 20 ] [ 21 ] openai initi run brockman 's live room .\",\n",
       " '[ 22 ] it later headquart pioneer build mission district , san francisco .',\n",
       " '[ 23 ] [ 24 ]']"
      ]
     },
     "execution_count": 25,
     "metadata": {},
     "output_type": "execute_result"
    }
   ],
   "source": [
    "Sentences"
   ]
  },
  {
   "cell_type": "code",
   "execution_count": null,
   "id": "e7bf9be7",
   "metadata": {},
   "outputs": [],
   "source": []
  },
  {
   "cell_type": "code",
   "execution_count": null,
   "id": "5ca885c1",
   "metadata": {},
   "outputs": [],
   "source": []
  }
 ],
 "metadata": {
  "kernelspec": {
   "display_name": "Python 3 (ipykernel)",
   "language": "python",
   "name": "python3"
  },
  "language_info": {
   "codemirror_mode": {
    "name": "ipython",
    "version": 3
   },
   "file_extension": ".py",
   "mimetype": "text/x-python",
   "name": "python",
   "nbconvert_exporter": "python",
   "pygments_lexer": "ipython3",
   "version": "3.11.3"
  }
 },
 "nbformat": 4,
 "nbformat_minor": 5
}
