{
 "cells": [
  {
   "cell_type": "code",
   "execution_count": 47,
   "id": "589f52a0",
   "metadata": {},
   "outputs": [],
   "source": [
    "import pandas as pd\n",
    "import numpy as np\n",
    "import sqlite3"
   ]
  },
  {
   "cell_type": "code",
   "execution_count": 2,
   "id": "373fe245",
   "metadata": {},
   "outputs": [
    {
     "name": "stdout",
     "output_type": "stream",
     "text": [
      "0    a\n",
      "1    b\n",
      "2    c\n",
      "3    d\n",
      "4    e\n",
      "5    f\n",
      "dtype: object\n"
     ]
    }
   ],
   "source": [
    "List = pd.Series(list(\"abcdef\"))\n",
    "print(List)"
   ]
  },
  {
   "cell_type": "code",
   "execution_count": 3,
   "id": "71ced97d",
   "metadata": {},
   "outputs": [
    {
     "name": "stdout",
     "output_type": "stream",
     "text": [
      "0    England\n",
      "1    America\n",
      "2      India\n",
      "3    Vietnam\n",
      "4    Germany\n",
      "dtype: object\n"
     ]
    }
   ],
   "source": [
    "# Creating series from nd array\n",
    "Country = np.array([\"England\", \"America\", \"India\", \"Vietnam\", \"Germany\"])\n",
    "Country_Series = pd.Series(Country)\n",
    "print(Country_Series)"
   ]
  },
  {
   "cell_type": "code",
   "execution_count": 4,
   "id": "bfadcbe2",
   "metadata": {},
   "outputs": [
    {
     "name": "stdout",
     "output_type": "stream",
     "text": [
      "94\n"
     ]
    }
   ],
   "source": [
    "# Creating series from dictionary\n",
    "States = pd.Series([51, 57, 16, 94, 98], index = [\"England\", \"America\", \"India\", \"Vietnam\", \"Germany\"])\n",
    "print(States[\"Vietnam\"])"
   ]
  },
  {
   "cell_type": "code",
   "execution_count": 5,
   "id": "56c2538c",
   "metadata": {},
   "outputs": [
    {
     "name": "stdout",
     "output_type": "stream",
     "text": [
      "A    11\n",
      "B    22\n",
      "C    33\n",
      "D    44\n",
      "E    55\n",
      "dtype: int64\n"
     ]
    }
   ],
   "source": [
    "Series_1 = pd.Series([1, 2, 3, 4, 5], index = [\"A\", \"B\", \"C\", \"D\", \"E\"])\n",
    "Series_2 = pd.Series([10, 20, 30, 40, 50], index = [\"A\", \"B\", \"C\", \"D\", \"E\"])\n",
    "\n",
    "print(Series_1 + Series_2)"
   ]
  },
  {
   "cell_type": "code",
   "execution_count": 6,
   "id": "3f1fbb0a",
   "metadata": {},
   "outputs": [
    {
     "name": "stdout",
     "output_type": "stream",
     "text": [
      "A    11.0\n",
      "B    22.0\n",
      "C     NaN\n",
      "D     NaN\n",
      "E    55.0\n",
      "F     NaN\n",
      "G     NaN\n",
      "dtype: float64\n",
      "2\n"
     ]
    }
   ],
   "source": [
    "Series_3 = pd.Series([1, 2, 3, 4, 5], index = [\"A\", \"B\", \"F\", \"G\", \"E\"])\n",
    "print(Series_2 + Series_3)\n",
    "print(Series_3[1])"
   ]
  },
  {
   "cell_type": "code",
   "execution_count": 7,
   "id": "7886cfca",
   "metadata": {},
   "outputs": [
    {
     "name": "stdout",
     "output_type": "stream",
     "text": [
      "  HostCity  Year  ParticipatingCountries\n",
      "0    Paris  2024                      25\n",
      "1   London  2004                      61\n",
      "2   Sydney  2015                      86\n",
      "3    Japan  2020                      92\n",
      "4  Beijing  2013                      51\n"
     ]
    }
   ],
   "source": [
    "# Creating dataframe from lists\n",
    "Olympic_Data_List = {\n",
    "    \"HostCity\": [\"Paris\", \"London\", \"Sydney\", \"Japan\", \"Beijing\"],\n",
    "    \"Year\": [2024, 2004, 2015, 2020, 2013],\n",
    "    \"ParticipatingCountries\": [25, 61, 86, 92, 51]\n",
    "}\n",
    "\n",
    "DF_Olympic_Data = pd.DataFrame(Olympic_Data_List)\n",
    "\n",
    "print(DF_Olympic_Data)"
   ]
  },
  {
   "cell_type": "code",
   "execution_count": 8,
   "id": "55ee892d",
   "metadata": {},
   "outputs": [
    {
     "name": "stdout",
     "output_type": "stream",
     "text": [
      "      London  Beijing\n",
      "2004    61.0      NaN\n",
      "2013     NaN     51.0\n"
     ]
    }
   ],
   "source": [
    "# Creating data from dictionary\n",
    "Olympic_Dictionary = {\n",
    "    \"London\": {2004: 61},\n",
    "    \"Beijing\": {2013: 51}\n",
    "}\n",
    "\n",
    "DF_Olympic_Dictionary = pd.DataFrame(Olympic_Dictionary)\n",
    "print(DF_Olympic_Dictionary)"
   ]
  },
  {
   "cell_type": "code",
   "execution_count": 9,
   "id": "05bc92ca",
   "metadata": {},
   "outputs": [
    {
     "name": "stdout",
     "output_type": "stream",
     "text": [
      "0      Paris\n",
      "1     London\n",
      "2     Sydney\n",
      "3      Japan\n",
      "4    Beijing\n",
      "Name: HostCity, dtype: object\n"
     ]
    }
   ],
   "source": [
    "print(DF_Olympic_Data.HostCity)"
   ]
  },
  {
   "cell_type": "code",
   "execution_count": 10,
   "id": "4ac4ec7e",
   "metadata": {},
   "outputs": [
    {
     "data": {
      "text/plain": [
       "<bound method NDFrame.describe of   HostCity  Year  ParticipatingCountries\n",
       "0    Paris  2024                      25\n",
       "1   London  2004                      61\n",
       "2   Sydney  2015                      86\n",
       "3    Japan  2020                      92\n",
       "4  Beijing  2013                      51>"
      ]
     },
     "execution_count": 10,
     "metadata": {},
     "output_type": "execute_result"
    }
   ],
   "source": [
    "DF_Olympic_Data.describe"
   ]
  },
  {
   "cell_type": "code",
   "execution_count": 11,
   "id": "0568fb62",
   "metadata": {},
   "outputs": [
    {
     "name": "stdout",
     "output_type": "stream",
     "text": [
      "      ParticipatingCountries OlympicCities\n",
      "2024                      25         Paris\n",
      "2004                      61        London\n",
      "2015                      86        Sydney\n",
      "2020                      92         Japan\n",
      "2013                      51       Beijing\n"
     ]
    }
   ],
   "source": [
    "# Creating DataFrame from dictionary of series of participation\n",
    "DF_Olympic_Cities_Participation = pd.Series([25, 61, 86, 92, 51], index = [2024, 2004, 2015, 2020, 2013])\n",
    "\n",
    "DF_Olympic_Cities_Country = pd.Series([\"Paris\", \"London\", \"Sydney\", \"Japan\", \"Beijing\"], index = [2024, 2004, 2015, 2020, 2013])\n",
    "\n",
    "DF_Olympic_Series = pd.DataFrame({\n",
    "    \"ParticipatingCountries\": DF_Olympic_Cities_Participation,\n",
    "    \"OlympicCities\": DF_Olympic_Cities_Country\n",
    "})\n",
    "\n",
    "print(DF_Olympic_Series)"
   ]
  },
  {
   "cell_type": "code",
   "execution_count": 12,
   "id": "2387ab23",
   "metadata": {},
   "outputs": [
    {
     "name": "stdout",
     "output_type": "stream",
     "text": [
      "   Year\n",
      "0  2024\n",
      "1  2004\n",
      "2  2015\n",
      "3  2020\n",
      "4  2013\n",
      "Axes(0.125,0.11;0.775x0.77)\n"
     ]
    },
    {
     "data": {
      "image/png": "[encoded data removed]",
      "text/plain": [
       "<Figure size 640x480 with 1 Axes>"
      ]
     },
     "metadata": {},
     "output_type": "display_data"
    }
   ],
   "source": [
    "# Creating DataFrame from nd array\n",
    "NP_Array = np.array([2024, 2004, 2015, 2020, 2013])\n",
    "Dictionary_Array = {\n",
    "    \"Year\": NP_Array\n",
    "}\n",
    "\n",
    "DF_Array = pd.DataFrame(Dictionary_Array)\n",
    "print(DF_Array)\n",
    "print(DF_Array.plot())"
   ]
  },
  {
   "cell_type": "code",
   "execution_count": 13,
   "id": "90c8fbdd",
   "metadata": {},
   "outputs": [
    {
     "data": {
      "text/html": [
       "<div>\n",
       "<style scoped>\n",
       "    .dataframe tbody tr th:only-of-type {\n",
       "        vertical-align: middle;\n",
       "    }\n",
       "\n",
       "    .dataframe tbody tr th {\n",
       "        vertical-align: top;\n",
       "    }\n",
       "\n",
       "    .dataframe thead th {\n",
       "        text-align: right;\n",
       "    }\n",
       "</style>\n",
       "<table border=\"1\" class=\"dataframe\">\n",
       "  <thead>\n",
       "    <tr style=\"text-align: right;\">\n",
       "      <th></th>\n",
       "      <th>HostCity</th>\n",
       "      <th>Year</th>\n",
       "      <th>ParticipatingCountries</th>\n",
       "    </tr>\n",
       "  </thead>\n",
       "  <tbody>\n",
       "    <tr>\n",
       "      <th>0</th>\n",
       "      <td>Paris</td>\n",
       "      <td>2024</td>\n",
       "      <td>25</td>\n",
       "    </tr>\n",
       "    <tr>\n",
       "      <th>1</th>\n",
       "      <td>London</td>\n",
       "      <td>2004</td>\n",
       "      <td>61</td>\n",
       "    </tr>\n",
       "    <tr>\n",
       "      <th>2</th>\n",
       "      <td>Sydney</td>\n",
       "      <td>2015</td>\n",
       "      <td>86</td>\n",
       "    </tr>\n",
       "    <tr>\n",
       "      <th>3</th>\n",
       "      <td>Japan</td>\n",
       "      <td>2020</td>\n",
       "      <td>92</td>\n",
       "    </tr>\n",
       "    <tr>\n",
       "      <th>4</th>\n",
       "      <td>Beijing</td>\n",
       "      <td>2013</td>\n",
       "      <td>51</td>\n",
       "    </tr>\n",
       "  </tbody>\n",
       "</table>\n",
       "</div>"
      ],
      "text/plain": [
       "  HostCity  Year  ParticipatingCountries\n",
       "0    Paris  2024                      25\n",
       "1   London  2004                      61\n",
       "2   Sydney  2015                      86\n",
       "3    Japan  2020                      92\n",
       "4  Beijing  2013                      51"
      ]
     },
     "execution_count": 13,
     "metadata": {},
     "output_type": "execute_result"
    }
   ],
   "source": [
    "DF_Copy = DF_Olympic_Data\n",
    "DF_Copy"
   ]
  },
  {
   "cell_type": "code",
   "execution_count": 14,
   "id": "5f41aecb",
   "metadata": {},
   "outputs": [
    {
     "data": {
      "text/plain": [
       "C    10\n",
       "E    20\n",
       "F    30\n",
       "G    40\n",
       "H    50\n",
       "dtype: int64"
      ]
     },
     "execution_count": 14,
     "metadata": {},
     "output_type": "execute_result"
    }
   ],
   "source": [
    "# Handling missing values\n",
    "First_Series = pd.Series([1, 2, 3, 4, 5], index = [\"A\", \"B\", \"C\", \"E\", \"F\"])\n",
    "Second_Series = pd.Series([10, 20, 30, 40, 50], index = [\"A\", \"B\", \"C\", \"E\", \"F\"])\n",
    "Third_Series = pd.Series([10, 20, 30, 40, 50], index = [\"C\", \"E\", \"F\", \"G\", \"H\"])\n",
    "Third_Series"
   ]
  },
  {
   "cell_type": "code",
   "execution_count": 15,
   "id": "e2a6d642",
   "metadata": {},
   "outputs": [
    {
     "data": {
      "text/plain": [
       "A     NaN\n",
       "B     NaN\n",
       "C    13.0\n",
       "E    24.0\n",
       "F    35.0\n",
       "G     NaN\n",
       "H     NaN\n",
       "dtype: float64"
      ]
     },
     "execution_count": 15,
     "metadata": {},
     "output_type": "execute_result"
    }
   ],
   "source": [
    "SumOf = First_Series + Third_Series\n",
    "SumOf"
   ]
  },
  {
   "cell_type": "code",
   "execution_count": 16,
   "id": "f49a656a",
   "metadata": {},
   "outputs": [
    {
     "data": {
      "text/plain": [
       "C    13.0\n",
       "E    24.0\n",
       "F    35.0\n",
       "dtype: float64"
      ]
     },
     "execution_count": 16,
     "metadata": {},
     "output_type": "execute_result"
    }
   ],
   "source": [
    "Modified_Sum = SumOf.dropna()\n",
    "Modified_Sum"
   ]
  },
  {
   "cell_type": "code",
   "execution_count": 17,
   "id": "3d3a70eb",
   "metadata": {},
   "outputs": [
    {
     "data": {
      "text/plain": [
       "A     0.0\n",
       "B     0.0\n",
       "C    13.0\n",
       "E    24.0\n",
       "F    35.0\n",
       "G     0.0\n",
       "H     0.0\n",
       "dtype: float64"
      ]
     },
     "execution_count": 17,
     "metadata": {},
     "output_type": "execute_result"
    }
   ],
   "source": [
    "Modified_Sum1 = SumOf.fillna(0)\n",
    "Modified_Sum1"
   ]
  },
  {
   "cell_type": "code",
   "execution_count": 18,
   "id": "14f6b0c3",
   "metadata": {},
   "outputs": [
    {
     "data": {
      "text/plain": [
       "A     1.0\n",
       "B     2.0\n",
       "C    13.0\n",
       "E    24.0\n",
       "F    35.0\n",
       "G    40.0\n",
       "H    50.0\n",
       "dtype: float64"
      ]
     },
     "execution_count": 18,
     "metadata": {},
     "output_type": "execute_result"
    }
   ],
   "source": [
    "# Addition operation while filling 0 as missing index\n",
    "New_Add = First_Series.add(Third_Series, fill_value = 0)\n",
    "New_Add"
   ]
  },
  {
   "cell_type": "markdown",
   "id": "95c0b4d8",
   "metadata": {},
   "source": [
    "# Data operation "
   ]
  },
  {
   "cell_type": "code",
   "execution_count": 19,
   "id": "a2854a45",
   "metadata": {},
   "outputs": [
    {
     "data": {
      "text/html": [
       "<div>\n",
       "<style scoped>\n",
       "    .dataframe tbody tr th:only-of-type {\n",
       "        vertical-align: middle;\n",
       "    }\n",
       "\n",
       "    .dataframe tbody tr th {\n",
       "        vertical-align: top;\n",
       "    }\n",
       "\n",
       "    .dataframe thead th {\n",
       "        text-align: right;\n",
       "    }\n",
       "</style>\n",
       "<table border=\"1\" class=\"dataframe\">\n",
       "  <thead>\n",
       "    <tr style=\"text-align: right;\">\n",
       "      <th></th>\n",
       "      <th>movie1</th>\n",
       "      <th>movie2</th>\n",
       "    </tr>\n",
       "  </thead>\n",
       "  <tbody>\n",
       "    <tr>\n",
       "      <th>John</th>\n",
       "      <td>5</td>\n",
       "      <td>4</td>\n",
       "    </tr>\n",
       "    <tr>\n",
       "      <th>Maya</th>\n",
       "      <td>4</td>\n",
       "      <td>5</td>\n",
       "    </tr>\n",
       "    <tr>\n",
       "      <th>Jane</th>\n",
       "      <td>3</td>\n",
       "      <td>2</td>\n",
       "    </tr>\n",
       "    <tr>\n",
       "      <th>Chris</th>\n",
       "      <td>2</td>\n",
       "      <td>3</td>\n",
       "    </tr>\n",
       "    <tr>\n",
       "      <th>Arindam</th>\n",
       "      <td>1</td>\n",
       "      <td>4</td>\n",
       "    </tr>\n",
       "    <tr>\n",
       "      <th>David</th>\n",
       "      <td>4</td>\n",
       "      <td>2</td>\n",
       "    </tr>\n",
       "  </tbody>\n",
       "</table>\n",
       "</div>"
      ],
      "text/plain": [
       "         movie1  movie2\n",
       "John          5       4\n",
       "Maya          4       5\n",
       "Jane          3       2\n",
       "Chris         2       3\n",
       "Arindam       1       4\n",
       "David         4       2"
      ]
     },
     "execution_count": 19,
     "metadata": {},
     "output_type": "execute_result"
    }
   ],
   "source": [
    "DF_Movie_Rating = pd.DataFrame({\n",
    "    \"movie1\" : [5, 4, 3, 2, 1, 4],\n",
    "    \"movie2\" : [4, 5, 2, 3, 4, 2]\n",
    "}, index = [\"John\", \"Maya\", \"Jane\", \"Chris\", \"Arindam\", \"David\"])\n",
    "\n",
    "DF_Movie_Rating"
   ]
  },
  {
   "cell_type": "code",
   "execution_count": 20,
   "id": "4d2bb830",
   "metadata": {},
   "outputs": [
    {
     "data": {
      "text/html": [
       "<div>\n",
       "<style scoped>\n",
       "    .dataframe tbody tr th:only-of-type {\n",
       "        vertical-align: middle;\n",
       "    }\n",
       "\n",
       "    .dataframe tbody tr th {\n",
       "        vertical-align: top;\n",
       "    }\n",
       "\n",
       "    .dataframe thead th {\n",
       "        text-align: right;\n",
       "    }\n",
       "</style>\n",
       "<table border=\"1\" class=\"dataframe\">\n",
       "  <thead>\n",
       "    <tr style=\"text-align: right;\">\n",
       "      <th></th>\n",
       "      <th>movie1</th>\n",
       "      <th>movie2</th>\n",
       "    </tr>\n",
       "  </thead>\n",
       "  <tbody>\n",
       "    <tr>\n",
       "      <th>John</th>\n",
       "      <td>A</td>\n",
       "      <td>B</td>\n",
       "    </tr>\n",
       "    <tr>\n",
       "      <th>Maya</th>\n",
       "      <td>B</td>\n",
       "      <td>A</td>\n",
       "    </tr>\n",
       "    <tr>\n",
       "      <th>Jane</th>\n",
       "      <td>C</td>\n",
       "      <td>D</td>\n",
       "    </tr>\n",
       "    <tr>\n",
       "      <th>Chris</th>\n",
       "      <td>D</td>\n",
       "      <td>C</td>\n",
       "    </tr>\n",
       "    <tr>\n",
       "      <th>Arindam</th>\n",
       "      <td>E</td>\n",
       "      <td>B</td>\n",
       "    </tr>\n",
       "    <tr>\n",
       "      <th>David</th>\n",
       "      <td>B</td>\n",
       "      <td>D</td>\n",
       "    </tr>\n",
       "  </tbody>\n",
       "</table>\n",
       "</div>"
      ],
      "text/plain": [
       "        movie1 movie2\n",
       "John         A      B\n",
       "Maya         B      A\n",
       "Jane         C      D\n",
       "Chris        D      C\n",
       "Arindam      E      B\n",
       "David        B      D"
      ]
     },
     "execution_count": 20,
     "metadata": {},
     "output_type": "execute_result"
    }
   ],
   "source": [
    "def movie_grade(rating):\n",
    "    Grades = {\n",
    "        5: \"A\",\n",
    "        4: \"B\",\n",
    "        3: \"C\",\n",
    "        2: \"D\",\n",
    "        1: \"E\"\n",
    "    }\n",
    "    \n",
    "    return Grades[int(rating)]\n",
    "\n",
    "DF_Movie_Rating.applymap(movie_grade)"
   ]
  },
  {
   "cell_type": "code",
   "execution_count": 24,
   "id": "283faf27",
   "metadata": {},
   "outputs": [
    {
     "data": {
      "text/plain": [
       "'Test2'"
      ]
     },
     "execution_count": 24,
     "metadata": {},
     "output_type": "execute_result"
    }
   ],
   "source": [
    "DF_Test_Scores = pd.DataFrame({\n",
    "        \"Test1\" : [95, 84 , 93, 73, 62, 91],\n",
    "        \"Test2\" : [94, 97, 72, 83, 94, 82]\n",
    "    },\n",
    "    index = [\"John\", \"Jane\", \"David\", \"Erick\", \"Dan\", \"Chris\"]\n",
    ")\n",
    "DF_Test_Scores"
   ]
  },
  {
   "cell_type": "code",
   "execution_count": 35,
   "id": "c51ba42f",
   "metadata": {},
   "outputs": [
    {
     "name": "stdout",
     "output_type": "stream",
     "text": [
      "Test1    95\n",
      "Test2    97\n",
      "dtype: int64\n",
      "Test1    62\n",
      "Test2    72\n",
      "dtype: int64\n",
      "Test1    6\n",
      "Test2    6\n",
      "dtype: int64\n",
      "       Test1  Test2\n",
      "John    9025   8836\n",
      "Jane    7056   9409\n",
      "David   8649   5184\n",
      "Erick   5329   6889\n",
      "Dan     3844   8836\n",
      "Chris   8281   6724\n",
      "Test1    83.0\n",
      "Test2    87.0\n",
      "dtype: float64\n"
     ]
    }
   ],
   "source": [
    "print(DF_Test_Scores.max())\n",
    "print(DF_Test_Scores.min())\n",
    "print(DF_Test_Scores.count())\n",
    "print(DF_Test_Scores.pow(2))\n",
    "print(DF_Test_Scores.mean())"
   ]
  },
  {
   "cell_type": "code",
   "execution_count": 36,
   "id": "333332b7",
   "metadata": {},
   "outputs": [
    {
     "data": {
      "text/html": [
       "<div>\n",
       "<style scoped>\n",
       "    .dataframe tbody tr th:only-of-type {\n",
       "        vertical-align: middle;\n",
       "    }\n",
       "\n",
       "    .dataframe tbody tr th {\n",
       "        vertical-align: top;\n",
       "    }\n",
       "\n",
       "    .dataframe thead th {\n",
       "        text-align: right;\n",
       "    }\n",
       "</style>\n",
       "<table border=\"1\" class=\"dataframe\">\n",
       "  <thead>\n",
       "    <tr style=\"text-align: right;\">\n",
       "      <th></th>\n",
       "      <th>First</th>\n",
       "      <th>Second</th>\n",
       "    </tr>\n",
       "  </thead>\n",
       "  <tbody>\n",
       "    <tr>\n",
       "      <th>0</th>\n",
       "      <td>Narendra</td>\n",
       "      <td>Modi</td>\n",
       "    </tr>\n",
       "    <tr>\n",
       "      <th>1</th>\n",
       "      <td>Joe</td>\n",
       "      <td>Biden</td>\n",
       "    </tr>\n",
       "    <tr>\n",
       "      <th>2</th>\n",
       "      <td>Vladimir</td>\n",
       "      <td>Putin</td>\n",
       "    </tr>\n",
       "    <tr>\n",
       "      <th>3</th>\n",
       "      <td>George</td>\n",
       "      <td>Bush</td>\n",
       "    </tr>\n",
       "    <tr>\n",
       "      <th>4</th>\n",
       "      <td>George</td>\n",
       "      <td>Washington</td>\n",
       "    </tr>\n",
       "    <tr>\n",
       "      <th>5</th>\n",
       "      <td>Manmohan</td>\n",
       "      <td>Modi</td>\n",
       "    </tr>\n",
       "  </tbody>\n",
       "</table>\n",
       "</div>"
      ],
      "text/plain": [
       "      First      Second\n",
       "0  Narendra        Modi\n",
       "1       Joe       Biden\n",
       "2  Vladimir       Putin\n",
       "3    George        Bush\n",
       "4    George  Washington\n",
       "5  Manmohan        Modi"
      ]
     },
     "execution_count": 36,
     "metadata": {},
     "output_type": "execute_result"
    }
   ],
   "source": [
    "DF_Country_Head = pd.DataFrame({\n",
    "    \"First\" : [\"Narendra\", \"Joe\", \"Vladimir\", \"George\", \"George\", \"Manmohan\"],\n",
    "    \"Second\" : [\"Modi\", \"Biden\", \"Putin\", \"Bush\", \"Washington\", \"Modi\"]\n",
    "})\n",
    "\n",
    "DF_Country_Head"
   ]
  },
  {
   "cell_type": "code",
   "execution_count": 43,
   "id": "21edd2e2",
   "metadata": {},
   "outputs": [
    {
     "name": "stdout",
     "output_type": "stream",
     "text": [
      "    First      Second\n",
      "3  George        Bush\n",
      "4  George  Washington\n",
      "\n",
      "\n",
      "      First Second\n",
      "0  Narendra   Modi\n",
      "5  Manmohan   Modi\n"
     ]
    }
   ],
   "source": [
    "Grouped_1 = DF_Country_Head.groupby(\"First\")\n",
    "Grouped_2 = DF_Country_Head.groupby(\"Second\")\n",
    "\n",
    "Group_Data_1 = Grouped_1.get_group(\"George\")\n",
    "Group_Data_2 = Grouped_2.get_group(\"Modi\")\n",
    "\n",
    "print(Group_Data_1)\n",
    "print(\"\\n\")\n",
    "print(Group_Data_2)"
   ]
  },
  {
   "cell_type": "code",
   "execution_count": 44,
   "id": "0c6a3dcd",
   "metadata": {},
   "outputs": [
    {
     "data": {
      "text/html": [
       "<div>\n",
       "<style scoped>\n",
       "    .dataframe tbody tr th:only-of-type {\n",
       "        vertical-align: middle;\n",
       "    }\n",
       "\n",
       "    .dataframe tbody tr th {\n",
       "        vertical-align: top;\n",
       "    }\n",
       "\n",
       "    .dataframe thead th {\n",
       "        text-align: right;\n",
       "    }\n",
       "</style>\n",
       "<table border=\"1\" class=\"dataframe\">\n",
       "  <thead>\n",
       "    <tr style=\"text-align: right;\">\n",
       "      <th></th>\n",
       "      <th>First</th>\n",
       "      <th>Second</th>\n",
       "    </tr>\n",
       "  </thead>\n",
       "  <tbody>\n",
       "    <tr>\n",
       "      <th>3</th>\n",
       "      <td>George</td>\n",
       "      <td>Bush</td>\n",
       "    </tr>\n",
       "    <tr>\n",
       "      <th>4</th>\n",
       "      <td>George</td>\n",
       "      <td>Washington</td>\n",
       "    </tr>\n",
       "    <tr>\n",
       "      <th>1</th>\n",
       "      <td>Joe</td>\n",
       "      <td>Biden</td>\n",
       "    </tr>\n",
       "    <tr>\n",
       "      <th>5</th>\n",
       "      <td>Manmohan</td>\n",
       "      <td>Modi</td>\n",
       "    </tr>\n",
       "    <tr>\n",
       "      <th>0</th>\n",
       "      <td>Narendra</td>\n",
       "      <td>Modi</td>\n",
       "    </tr>\n",
       "    <tr>\n",
       "      <th>2</th>\n",
       "      <td>Vladimir</td>\n",
       "      <td>Putin</td>\n",
       "    </tr>\n",
       "  </tbody>\n",
       "</table>\n",
       "</div>"
      ],
      "text/plain": [
       "      First      Second\n",
       "3    George        Bush\n",
       "4    George  Washington\n",
       "1       Joe       Biden\n",
       "5  Manmohan        Modi\n",
       "0  Narendra        Modi\n",
       "2  Vladimir       Putin"
      ]
     },
     "execution_count": 44,
     "metadata": {},
     "output_type": "execute_result"
    }
   ],
   "source": [
    "DF_Country_Head.sort_values(\"First\")"
   ]
  },
  {
   "cell_type": "code",
   "execution_count": 45,
   "id": "c56604f3",
   "metadata": {},
   "outputs": [
    {
     "data": {
      "text/html": [
       "<div>\n",
       "<style scoped>\n",
       "    .dataframe tbody tr th:only-of-type {\n",
       "        vertical-align: middle;\n",
       "    }\n",
       "\n",
       "    .dataframe tbody tr th {\n",
       "        vertical-align: top;\n",
       "    }\n",
       "\n",
       "    .dataframe thead th {\n",
       "        text-align: right;\n",
       "    }\n",
       "</style>\n",
       "<table border=\"1\" class=\"dataframe\">\n",
       "  <thead>\n",
       "    <tr style=\"text-align: right;\">\n",
       "      <th></th>\n",
       "      <th>First</th>\n",
       "      <th>Second</th>\n",
       "    </tr>\n",
       "  </thead>\n",
       "  <tbody>\n",
       "    <tr>\n",
       "      <th>1</th>\n",
       "      <td>Joe</td>\n",
       "      <td>Biden</td>\n",
       "    </tr>\n",
       "    <tr>\n",
       "      <th>3</th>\n",
       "      <td>George</td>\n",
       "      <td>Bush</td>\n",
       "    </tr>\n",
       "    <tr>\n",
       "      <th>0</th>\n",
       "      <td>Narendra</td>\n",
       "      <td>Modi</td>\n",
       "    </tr>\n",
       "    <tr>\n",
       "      <th>5</th>\n",
       "      <td>Manmohan</td>\n",
       "      <td>Modi</td>\n",
       "    </tr>\n",
       "    <tr>\n",
       "      <th>2</th>\n",
       "      <td>Vladimir</td>\n",
       "      <td>Putin</td>\n",
       "    </tr>\n",
       "    <tr>\n",
       "      <th>4</th>\n",
       "      <td>George</td>\n",
       "      <td>Washington</td>\n",
       "    </tr>\n",
       "  </tbody>\n",
       "</table>\n",
       "</div>"
      ],
      "text/plain": [
       "      First      Second\n",
       "1       Joe       Biden\n",
       "3    George        Bush\n",
       "0  Narendra        Modi\n",
       "5  Manmohan        Modi\n",
       "2  Vladimir       Putin\n",
       "4    George  Washington"
      ]
     },
     "execution_count": 45,
     "metadata": {},
     "output_type": "execute_result"
    }
   ],
   "source": [
    "DF_Country_Head.sort_values(\"Second\")"
   ]
  },
  {
   "cell_type": "code",
   "execution_count": 48,
   "id": "a5a7c399",
   "metadata": {},
   "outputs": [],
   "source": [
    "create_table = \"\"\"\n",
    "CREATE TABLE student_score\n",
    "\n",
    "(ID INTEGER, Name VARCHAR(20), Math REAL, Science REAL);\n",
    "\n",
    "\"\"\""
   ]
  },
  {
   "cell_type": "code",
   "execution_count": 49,
   "id": "995a0311",
   "metadata": {},
   "outputs": [],
   "source": [
    "executeSQL = sqlite3.connect(\":memory:\")\n",
    "\n",
    "executeSQL.execute(create_table)\n",
    "\n",
    "executeSQL.commit()"
   ]
  },
  {
   "cell_type": "code",
   "execution_count": 54,
   "id": "af678c73",
   "metadata": {},
   "outputs": [
    {
     "data": {
      "text/plain": [
       "[(10, 'Jack', 98.0, 81.0),\n",
       " (66, 'Tom', 95.0, 92.0),\n",
       " (29, 'Steve', 75.0, 86.0),\n",
       " (84, 'David', 80.0, 96.0)]"
      ]
     },
     "execution_count": 54,
     "metadata": {},
     "output_type": "execute_result"
    }
   ],
   "source": [
    "sql_query = executeSQL.execute(\"select * from student_score\")\n",
    "\n",
    "resultset = sql_query.fetchall()\n",
    "\n",
    "resultset"
   ]
  },
  {
   "cell_type": "code",
   "execution_count": 53,
   "id": "83b1e15f",
   "metadata": {},
   "outputs": [],
   "source": [
    "insertsql = [(10, \"Jack\", 98, 81), \n",
    "\n",
    "            (66, \"Tom\", 95, 92),\n",
    "\n",
    "            (29, \"Steve\", 75, 86),\n",
    "\n",
    "            (84, \"David\", 80, 96)\n",
    "\n",
    "            ]\n",
    "\n",
    "insert_statement = \"Insert into student_score values(?, ?, ?, ?)\"\n",
    "\n",
    "executeSQL.executemany(insert_statement, insertsql)\n",
    "\n",
    "executeSQL.commit()"
   ]
  },
  {
   "cell_type": "code",
   "execution_count": 56,
   "id": "54093b9b",
   "metadata": {},
   "outputs": [
    {
     "data": {
      "text/plain": [
       "[(10, 'Jack', 98.0, 81.0),\n",
       " (66, 'Tom', 95.0, 92.0),\n",
       " (29, 'Steve', 75.0, 86.0),\n",
       " (84, 'David', 80.0, 96.0)]"
      ]
     },
     "execution_count": 56,
     "metadata": {},
     "output_type": "execute_result"
    }
   ],
   "source": [
    "sql_query = executeSQL.execute(\"select * from student_score\")\n",
    "\n",
    "resultset = sql_query.fetchall()\n",
    "\n",
    "resultset"
   ]
  },
  {
   "cell_type": "code",
   "execution_count": 57,
   "id": "b95fcbab",
   "metadata": {},
   "outputs": [
    {
     "ename": "TypeError",
     "evalue": "'zip' object is not subscriptable",
     "output_type": "error",
     "traceback": [
      "\u001b[1;31m---------------------------------------------------------------------------\u001b[0m",
      "\u001b[1;31mTypeError\u001b[0m                                 Traceback (most recent call last)",
      "Cell \u001b[1;32mIn[57], line 1\u001b[0m\n\u001b[1;32m----> 1\u001b[0m df_student_records \u001b[38;5;241m=\u001b[39m pd\u001b[38;5;241m.\u001b[39mDataFrame(resultset, columns \u001b[38;5;241m=\u001b[39m \u001b[38;5;28mlist\u001b[39m(\u001b[38;5;28mzip\u001b[39m(\u001b[38;5;241m*\u001b[39msql_query\u001b[38;5;241m.\u001b[39mdescription)[\u001b[38;5;241m0\u001b[39m]))\n\u001b[0;32m      3\u001b[0m df_student_records\n",
      "\u001b[1;31mTypeError\u001b[0m: 'zip' object is not subscriptable"
     ]
    }
   ],
   "source": [
    "df_student_records = pd.DataFrame(resultset, columns = list(zip(*sql_query.description)[0]))\n",
    "\n",
    "df_student_records"
   ]
  },
  {
   "cell_type": "code",
   "execution_count": null,
   "id": "de8dee3c",
   "metadata": {},
   "outputs": [],
   "source": []
  }
 ],
 "metadata": {
  "kernelspec": {
   "display_name": "Python 3 (ipykernel)",
   "language": "python",
   "name": "python3"
  },
  "language_info": {
   "codemirror_mode": {
    "name": "ipython",
    "version": 3
   },
   "file_extension": ".py",
   "mimetype": "text/x-python",
   "name": "python",
   "nbconvert_exporter": "python",
   "pygments_lexer": "ipython3",
   "version": "3.11.3"
  }
 },
 "nbformat": 4,
 "nbformat_minor": 5
}
